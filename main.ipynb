{
 "cells": [
  {
   "cell_type": "code",
   "execution_count": 121,
   "metadata": {},
   "outputs": [
    {
     "data": {
      "text/plain": [
       "True"
      ]
     },
     "execution_count": 121,
     "metadata": {},
     "output_type": "execute_result"
    }
   ],
   "source": [
    "import instructor\n",
    "from anthropic import Anthropic\n",
    "from pydantic import BaseModel, Field\n",
    "from dotenv import load_dotenv\n",
    "\n",
    "anthropic = Anthropic()\n",
    "\n",
    "load_dotenv()"
   ]
  },
  {
   "cell_type": "code",
   "execution_count": null,
   "metadata": {},
   "outputs": [],
   "source": [
    "queries = [\n",
    "    \"how does a hepatic adenoma look like on MRI?\",\n",
    "    \"penumbra ischemic stroke perfuson imaging\",\n",
    "    \"how to differentiate between a hepatic adenoma and focal nodular hyperplasia on MRI?\",\n",
    "    \"how does japanese encephalitis look like on MRI?\",\n",
    "    \"what is CLIPPERS?\",\n",
    "    \"What is a normal callosal angle, and how do I measure it?\",\n",
    "    \"Can you tell me more about the MTA score?\",\n",
    "    \"what are the criteria of an liver abscess\",\n",
    "    \"pneumonitis\",\n",
    "    \"how does the penumbra look in ct perfusion?\"\n",
    "]"
   ]
  },
  {
   "cell_type": "code",
   "execution_count": 102,
   "metadata": {},
   "outputs": [],
   "source": [
    "class SearchTerm(BaseModel):\n",
    "    text: str = Field(..., title=\"The search term extracted from the provided text. The search term should be the underlying disease or condition that the user is asking about.\")\n",
    "\n",
    "\n",
    "client = instructor.from_anthropic(Anthropic())\n",
    "\n",
    "def get_search_term(query: str) -> SearchTerm:\n",
    "# note that client.chat.completions.create will also work\n",
    "    resp = client.messages.create(\n",
    "        model=\"claude-3-5-haiku-latest\",\n",
    "        max_tokens=1024,\n",
    "        messages=[\n",
    "            {\n",
    "                \"role\": \"system\",\n",
    "                \"content\": \"Extract a search term from the provided text.\",},\n",
    "            {\n",
    "                \"role\": \"user\",\n",
    "                \"content\": f\"text: {query}\",\n",
    "            }\n",
    "        ],\n",
    "        response_model=SearchTerm,\n",
    "    )\n",
    "    \n",
    "    print(\"SearchTerm for query: \", query, \"is: \", resp.text)\n",
    "\n",
    "    return resp"
   ]
  },
  {
   "cell_type": "code",
   "execution_count": 103,
   "metadata": {},
   "outputs": [],
   "source": [
    "import requests\n",
    "from bs4 import BeautifulSoup\n",
    "\n",
    "def search_radiopaedia(search_query: str):\n",
    "    url = 'https://radiopaedia.org/search'\n",
    "\n",
    "\n",
    "    params = {\n",
    "        'lang': 'us',\n",
    "        'q': search_query,\n",
    "        'scope': 'articles'\n",
    "    }\n",
    "\n",
    "    headers = {\n",
    "        'accept': 'text/html,application/xhtml+xml,application/xml;q=0.9,image/avif,image/webp,image/apng,*/*;q=0.8',\n",
    "        'accept-language': 'de-DE,de;q=0.7',\n",
    "        'cache-control': 'max-age=0',\n",
    "        'cookie': '*radiopaedia*session=FK2kLR8%2Bhkzg8D5gtP4N4x7y7QoL55kFD40yMiPSOY7%2FN2z7QD85jgYgOl36adv2O4KM%2Buk9%2BIxtFUDX3LTHoSSOeoykDZyd%2FLqq5OPox0tzbn1URW4n5oZhowZCpw9MHPRvZ%2FAIDDhAtaJxz7Ue3hBb%2BjcKRloPcYbUjUBOi4KvtINrFnKpfey%2B13AgAz8bcuzLURQiO07IXbnVRackkRXpgG0mBcjh8n1Ap849t33s81SgYXTXFGeBit4JVhTtqLGrUa%2F%2FIXFZZyKREUk9b8kQYmvUIRtE9Fmr1Rd43JQOa60hTs%2F4Vhh%2F1rClz1pAgZrzAIEDbzx%2Bvz1CKDU%2FhHlydPYIcvrhZXOQ6TKhRDV8bfrfKjjToXAH9vyFbq4VxlnAnyoCA4JBFetkzZbrqrZSYsM%2F%2BF7LW8Swh92pLtO%2BwAps555wlyXnQKDbrapf%2FNaABd3%2Bk301t64uwC1n4nkq3Z7rIG409N%2FFfzylkrNs1eOArX1j%2FqkilucHBXMt--A7TmaE8Ut8M5kXCo--txKn9l3AgN8d8znLnEjAKw%3D%3D',\n",
    "        'priority': 'u=0, i',\n",
    "        'sec-ch-ua': '\"Chromium\";v=\"128\", \"Not;A=Brand\";v=\"24\", \"Brave\";v=\"128\"',\n",
    "        'sec-ch-ua-mobile': '?0',\n",
    "        'sec-ch-ua-platform': '\"macOS\"',\n",
    "        'sec-fetch-dest': 'document',\n",
    "        'sec-fetch-mode': 'navigate', \n",
    "        'sec-fetch-site': 'none',\n",
    "        'sec-fetch-user': '?1',\n",
    "        'sec-gpc': '1',\n",
    "        'upgrade-insecure-requests': '1',\n",
    "        'user-agent': 'Mozilla/5.0 (Macintosh; Intel Mac OS X 10_15_7) AppleWebKit/537.36 (KHTML, like Gecko) Chrome/128.0.0.0 Safari/537.36'\n",
    "    }\n",
    "\n",
    "    response = requests.get(url, params=params, headers=headers)\n",
    "\n",
    "    soup = BeautifulSoup(response.content, \"html.parser\")\n",
    "    return soup"
   ]
  },
  {
   "cell_type": "code",
   "execution_count": 104,
   "metadata": {},
   "outputs": [],
   "source": [
    "def structure_search_result(result, i): \n",
    "    return {\n",
    "        \"id\": i,\n",
    "        \"title\": result.find(class_='search-result-title').text.strip(),\n",
    "        \"body\": result.find(class_='search-result-body').text.strip(),\n",
    "        \"href\": result['href']\n",
    "    }"
   ]
  },
  {
   "cell_type": "code",
   "execution_count": 105,
   "metadata": {},
   "outputs": [],
   "source": [
    "def format_search_results(results):\n",
    "    def format_single_search_result(result): \n",
    "        return \"ID: \" + str(result['id']) + \"\\n\\n\" + \"Title: \" + result['title'] + \"\\n\\n\" + \"Body: \" + result['body'] + \"\\n\"\n",
    "    \n",
    "    res_string = \"\\n========================\\n\\n\".join([format_single_search_result(result) for result in results])\n",
    "    \n",
    "    print(res_string)\n",
    "    \n",
    "    return res_string"
   ]
  },
  {
   "cell_type": "code",
   "execution_count": 106,
   "metadata": {},
   "outputs": [],
   "source": [
    "class BestSearchResult(BaseModel):\n",
    "    chain_of_thought: str = Field(..., title=\"The reason why this is the best search result for the given query.\")\n",
    "    id: int = Field(..., title=\"The id of the best matching search result for the given query.\")\n",
    "\n",
    "\n",
    "client = instructor.from_anthropic(Anthropic())\n",
    "\n",
    "def get_best_result(query: str, search_results) -> SearchTerm:\n",
    "# note that client.chat.completions.create will also work\n",
    "    resp = client.messages.create(\n",
    "        model=\"claude-3-5-haiku-latest\",\n",
    "        max_tokens=1024,\n",
    "        messages=[\n",
    "            {\n",
    "                \"role\": \"system\",\n",
    "                \"content\": \"return the id of the best matching search result for the given query.\"},\n",
    "            {\n",
    "                \"role\": \"user\",\n",
    "                \"content\": f\"query: {query}\\n\\nsearch_results: {format_search_results(search_results)}\",\n",
    "            }\n",
    "        ],\n",
    "        response_model=BestSearchResult,\n",
    "    )\n",
    "\n",
    "    print(\"BestSearchResult for query: \", query, \"is: \", search_results[resp.id])\n",
    "    \n",
    "    return resp"
   ]
  },
  {
   "cell_type": "code",
   "execution_count": 130,
   "metadata": {},
   "outputs": [],
   "source": [
    "def get_article_text(url): \n",
    "    headers = {\n",
    "        'accept': 'text/html,application/xhtml+xml,application/xml;q=0.9,image/avif,image/webp,image/apng,*/*;q=0.8',\n",
    "        'accept-language': 'de-DE,de;q=0.7',\n",
    "        'cache-control': 'max-age=0',\n",
    "        'cookie': '*radiopaedia*session=FK2kLR8%2Bhkzg8D5gtP4N4x7y7QoL55kFD40yMiPSOY7%2FN2z7QD85jgYgOl36adv2O4KM%2Buk9%2BIxtFUDX3LTHoSSOeoykDZyd%2FLqq5OPox0tzbn1URW4n5oZhowZCpw9MHPRvZ%2FAIDDhAtaJxz7Ue3hBb%2BjcKRloPcYbUjUBOi4KvtINrFnKpfey%2B13AgAz8bcuzLURQiO07IXbnVRackkRXpgG0mBcjh8n1Ap849t33s81SgYXTXFGeBit4JVhTtqLGrUa%2F%2FIXFZZyKREUk9b8kQYmvUIRtE9Fmr1Rd43JQOa60hTs%2F4Vhh%2F1rClz1pAgZrzAIEDbzx%2Bvz1CKDU%2FhHlydPYIcvrhZXOQ6TKhRDV8bfrfKjjToXAH9vyFbq4VxlnAnyoCA4JBFetkzZbrqrZSYsM%2F%2BF7LW8Swh92pLtO%2BwAps555wlyXnQKDbrapf%2FNaABd3%2Bk301t64uwC1n4nkq3Z7rIG409N%2FFfzylkrNs1eOArX1j%2FqkilucHBXMt--A7TmaE8Ut8M5kXCo--txKn9l3AgN8d8znLnEjAKw%3D%3D',\n",
    "        'priority': 'u=0, i',\n",
    "        'sec-ch-ua': '\"Chromium\";v=\"128\", \"Not;A=Brand\";v=\"24\", \"Brave\";v=\"128\"',\n",
    "        'sec-ch-ua-mobile': '?0',\n",
    "        'sec-ch-ua-platform': '\"macOS\"',\n",
    "        'sec-fetch-dest': 'document',\n",
    "        'sec-fetch-mode': 'navigate', \n",
    "        'sec-fetch-site': 'none',\n",
    "        'sec-fetch-user': '?1',\n",
    "        'sec-gpc': '1',\n",
    "        'upgrade-insecure-requests': '1',\n",
    "        'user-agent': 'Mozilla/5.0 (Macintosh; Intel Mac OS X 10_15_7) AppleWebKit/537.36 (KHTML, like Gecko) Chrome/128.0.0.0 Safari/537.36'\n",
    "    }\n",
    "    response = requests.get(url, headers=headers)\n",
    "    soup = BeautifulSoup(response.content, \"html.parser\")\n",
    "    return soup.select(\"#content > div.body.user-generated-content\")[0].text.strip()"
   ]
  },
  {
   "cell_type": "code",
   "execution_count": 142,
   "metadata": {},
   "outputs": [],
   "source": [
    "from utils import answer_question"
   ]
  },
  {
   "cell_type": "code",
   "execution_count": 141,
   "metadata": {},
   "outputs": [
    {
     "name": "stdout",
     "output_type": "stream",
     "text": [
      "SearchTerm for query:  What is a normal callosal angle, and how do I measure it? is:  callosal angle\n",
      "ID: 0\n",
      "\n",
      "Title: Callosal angle\n",
      "\n",
      "Body: The callosal angle has been proposed as a useful marker of patients with idiopathic normal pressure hydrocephalus (iNPH), helpful in distinguishing these patients from those with ex-vacuo ventriculomegaly (see hydrocephalus versus atrophy). \n",
      "\n",
      "It should be noted that there is nothing magical abou...\n",
      "\n",
      "========================\n",
      "\n",
      "ID: 1\n",
      "\n",
      "Title: Hydrocephalus vs atrophy\n",
      "\n",
      "Body: Distinguishing primary hydrocephalus from atrophy resulting in compensatory enlargement of the CSF spaces as the cause of ventriculomegaly can be, at times, challenging in image interpretation.\n",
      "\n",
      "Radiographic features\n",
      "\n",
      "Features that favor hydrocephalus include:\n",
      "\n",
      "dilatation of the temporal horns\n",
      "\n",
      "...\n",
      "\n",
      "========================\n",
      "\n",
      "ID: 2\n",
      "\n",
      "Title: iNPH Radscale\n",
      "\n",
      "Body: The iNPH Radscale is a reproducible semiquantified grading scale for the imaging findings of normal pressure hydrocephalus (NPH).\n",
      "\n",
      "Scale\n",
      "\n",
      "The iNPH Radscale uses the following imaging findings on both CT and MRI 1,4:\n",
      "\n",
      "Evans index\n",
      "\n",
      "≤0.25: 0 points\n",
      "\n",
      "0.26-0.3: 1 point\n",
      "\n",
      ">0.3: 2 points\n",
      "\n",
      "narrow parieta...\n",
      "\n",
      "========================\n",
      "\n",
      "ID: 3\n",
      "\n",
      "Title: Normal pressure hydrocephalus\n",
      "\n",
      "Body: Normal pressure hydrocephalus remains a controversial entity with often ambiguous imaging findings. It is classically characterized by the triad of gait apraxia/ataxia, urinary incontinence, and cognitive impairment, although not all patients with the condition have all three 31.\n",
      "\n",
      "On imaging, it...\n",
      "\n",
      "========================\n",
      "\n",
      "ID: 4\n",
      "\n",
      "Title: Intracranial lipoma\n",
      "\n",
      "Body: Intracranial lipomas are not tumors as such, but rather a result of abnormal differentiation of embryologic meninx primitiva. They are frequently associated with abnormal development of adjacent structures.\n",
      "\n",
      "Terminology\n",
      "\n",
      "The term intracranial lipoma is used somewhat loosely. The broadest usage w...\n",
      "\n",
      "BestSearchResult for query:  What is a normal callosal angle, and how do I measure it? is:  {'id': 0, 'title': 'Callosal angle', 'body': 'The callosal angle has been proposed as a useful marker of patients with idiopathic normal pressure hydrocephalus (iNPH), helpful in distinguishing these patients from those with ex-vacuo ventriculomegaly (see hydrocephalus versus atrophy).\\xa0\\n\\nIt should be noted that there is nothing magical abou...', 'href': '/articles/callosal-angle?lang=us'}\n",
      "Message(id='msg_01ToFHFCwF7NZ4zJsnT8F6cw', content=[TextBlock(text='Based on the context:\\n\\nA normal callosal angle is typically between 100-120°. \\n\\nTo measure the callosal angle:\\n1. Use a coronal image\\n2. The image should be perpendicular to the anterior commissure - posterior commissure (AC-PC) plane\\n3. The measurement should be taken at the level of the posterior commissure\\n\\nBy contrast, patients with idiopathic normal pressure hydrocephalus (iNPH) tend to have smaller angles, usually between 50-80°.', type='text')], model='claude-3-5-haiku-20241022', role='assistant', stop_reason='end_turn', stop_sequence=None, type='message', usage=Usage(input_tokens=390, output_tokens=119))\n"
     ]
    },
    {
     "data": {
      "text/markdown": [
       "Based on the context:\n",
       "\n",
       "A normal callosal angle is typically between 100-120°. \n",
       "\n",
       "To measure the callosal angle:\n",
       "1. Use a coronal image\n",
       "2. The image should be perpendicular to the anterior commissure - posterior commissure (AC-PC) plane\n",
       "3. The measurement should be taken at the level of the posterior commissure\n",
       "\n",
       "By contrast, patients with idiopathic normal pressure hydrocephalus (iNPH) tend to have smaller angles, usually between 50-80°."
      ],
      "text/plain": [
       "<IPython.core.display.Markdown object>"
      ]
     },
     "metadata": {},
     "output_type": "display_data"
    }
   ],
   "source": [
    "query = \"What is a normal callosal angle, and how do I measure it?\"\n",
    "\n",
    "answer = answer_question(query)\n",
    "\n",
    "display(Markdown(answer))"
   ]
  },
  {
   "cell_type": "code",
   "execution_count": null,
   "metadata": {},
   "outputs": [],
   "source": []
  }
 ],
 "metadata": {
  "kernelspec": {
   "display_name": "radiopaedia_idea-Im9qHYLf",
   "language": "python",
   "name": "python3"
  },
  "language_info": {
   "codemirror_mode": {
    "name": "ipython",
    "version": 3
   },
   "file_extension": ".py",
   "mimetype": "text/x-python",
   "name": "python",
   "nbconvert_exporter": "python",
   "pygments_lexer": "ipython3",
   "version": "3.12.6"
  }
 },
 "nbformat": 4,
 "nbformat_minor": 2
}
